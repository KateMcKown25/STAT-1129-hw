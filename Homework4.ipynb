{
  "nbformat": 4,
  "nbformat_minor": 0,
  "metadata": {
    "colab": {
      "provenance": [],
      "authorship_tag": "ABX9TyOgmvBOOfw8g4+QS1S6c8cG",
      "include_colab_link": true
    },
    "kernelspec": {
      "name": "python3",
      "display_name": "Python 3"
    },
    "language_info": {
      "name": "python"
    }
  },
  "cells": [
    {
      "cell_type": "markdown",
      "metadata": {
        "id": "view-in-github",
        "colab_type": "text"
      },
      "source": [
        "<a href=\"https://colab.research.google.com/github/KateMcKown25/STAT-1129-hw/blob/main/Homework4.ipynb\" target=\"_parent\"><img src=\"https://colab.research.google.com/assets/colab-badge.svg\" alt=\"Open In Colab\"/></a>"
      ]
    },
    {
      "cell_type": "markdown",
      "source": [
        "**Homework 4**: *Katherine McKown*"
      ],
      "metadata": {
        "id": "8T4k5ccY8EnV"
      }
    },
    {
      "cell_type": "markdown",
      "source": [
        "Question 1: Creating this array (as shown in figure) with the array function of numpy.\n",
        "Using the array, multiply with 2 (Element-wise multiplication). Return the dimension and shape of\n",
        "this array."
      ],
      "metadata": {
        "id": "g25wAdWJ8QaX"
      }
    },
    {
      "cell_type": "code",
      "execution_count": 1,
      "metadata": {
        "id": "7y48N9Bk7rp6"
      },
      "outputs": [],
      "source": [
        "import numpy as np"
      ]
    },
    {
      "cell_type": "code",
      "source": [
        "numbers = np.array([1,2,3,4,5,6,7,8,9,10,11,12])"
      ],
      "metadata": {
        "id": "RPNCWvY18sjM"
      },
      "execution_count": 2,
      "outputs": []
    },
    {
      "cell_type": "code",
      "source": [
        "for row in numbers:\n",
        "  for column in row:\n",
        "    print(column, end=' ')"
      ],
      "metadata": {
        "colab": {
          "base_uri": "https://localhost:8080/",
          "height": 204
        },
        "id": "YUPLDIPG8_2Q",
        "outputId": "82eff8c5-4770-4125-db2d-447ba9053c23"
      },
      "execution_count": 13,
      "outputs": [
        {
          "output_type": "error",
          "ename": "TypeError",
          "evalue": "ignored",
          "traceback": [
            "\u001b[0;31m---------------------------------------------------------------------------\u001b[0m",
            "\u001b[0;31mTypeError\u001b[0m                                 Traceback (most recent call last)",
            "\u001b[0;32m<ipython-input-13-0cbb7ac3f6d1>\u001b[0m in \u001b[0;36m<module>\u001b[0;34m\u001b[0m\n\u001b[1;32m      1\u001b[0m \u001b[0;32mfor\u001b[0m \u001b[0mrow\u001b[0m \u001b[0;32min\u001b[0m \u001b[0mnumbers\u001b[0m\u001b[0;34m:\u001b[0m\u001b[0;34m\u001b[0m\u001b[0;34m\u001b[0m\u001b[0m\n\u001b[0;32m----> 2\u001b[0;31m   \u001b[0;32mfor\u001b[0m \u001b[0mcolumn\u001b[0m \u001b[0;32min\u001b[0m \u001b[0mrow\u001b[0m\u001b[0;34m:\u001b[0m\u001b[0;34m\u001b[0m\u001b[0;34m\u001b[0m\u001b[0m\n\u001b[0m\u001b[1;32m      3\u001b[0m     \u001b[0mprint\u001b[0m\u001b[0;34m(\u001b[0m\u001b[0mcolumn\u001b[0m\u001b[0;34m,\u001b[0m \u001b[0mend\u001b[0m\u001b[0;34m=\u001b[0m\u001b[0;34m' '\u001b[0m\u001b[0;34m)\u001b[0m\u001b[0;34m\u001b[0m\u001b[0;34m\u001b[0m\u001b[0m\n",
            "\u001b[0;31mTypeError\u001b[0m: 'numpy.int64' object is not iterable"
          ]
        }
      ]
    },
    {
      "cell_type": "code",
      "source": [
        "for row in numbers:\n",
        "  print(row, end='')"
      ],
      "metadata": {
        "colab": {
          "base_uri": "https://localhost:8080/"
        },
        "id": "0ht82W-T9Uzn",
        "outputId": "13465274-76e0-4291-ec07-e2916065ffe5"
      },
      "execution_count": 14,
      "outputs": [
        {
          "output_type": "stream",
          "name": "stdout",
          "text": [
            "123456789101112"
          ]
        }
      ]
    },
    {
      "cell_type": "markdown",
      "source": [
        "Question 2: create x integer array from 1 to 6, create y integer array from 5 to 10. using x integer array\n",
        "as X-axis, using y integer array as Y-axis, plot a line."
      ],
      "metadata": {
        "id": "bI1Ml9G4-Kjl"
      }
    },
    {
      "cell_type": "code",
      "source": [
        "import numpy as np"
      ],
      "metadata": {
        "id": "jCFTFDtd-OSN"
      },
      "execution_count": 16,
      "outputs": []
    },
    {
      "cell_type": "code",
      "source": [
        "import matplotlib.pyplot as plt"
      ],
      "metadata": {
        "id": "jkh6Jpnf_v0J"
      },
      "execution_count": 19,
      "outputs": []
    },
    {
      "cell_type": "code",
      "source": [
        "xpoints = np.array([1,6])"
      ],
      "metadata": {
        "id": "2WHMqKioAP5_"
      },
      "execution_count": 20,
      "outputs": []
    },
    {
      "cell_type": "code",
      "source": [
        "ypoints = np.array([5,10])"
      ],
      "metadata": {
        "id": "g7V3aj_5_4tf"
      },
      "execution_count": 21,
      "outputs": []
    },
    {
      "cell_type": "code",
      "source": [
        "plt.plot(xpoints, ypoints)\n",
        "plt.show()"
      ],
      "metadata": {
        "colab": {
          "base_uri": "https://localhost:8080/",
          "height": 265
        },
        "id": "EwTWxYTpAYCG",
        "outputId": "9e2f6fb4-5884-49d6-963e-b3ea58f6b38f"
      },
      "execution_count": 23,
      "outputs": [
        {
          "output_type": "display_data",
          "data": {
            "text/plain": [
              "<Figure size 432x288 with 1 Axes>"
            ],
            "image/png": "[encoded data removed]"
          },
          "metadata": {
            "needs_background": "light"
          }
        }
      ]
    },
    {
      "cell_type": "code",
      "source": [
        "xpoints = np.array([3,6,9,12])"
      ],
      "metadata": {
        "id": "m6CVOFjpAqVl"
      },
      "execution_count": 24,
      "outputs": []
    },
    {
      "cell_type": "code",
      "source": [
        "ypoints = np.array([2,8,1,10])"
      ],
      "metadata": {
        "id": "3pI9s1UDA0rb"
      },
      "execution_count": 25,
      "outputs": []
    },
    {
      "cell_type": "code",
      "source": [
        "plt.plot(xpoints,ypoints, marker = 'o')\n",
        "plt.show()"
      ],
      "metadata": {
        "colab": {
          "base_uri": "https://localhost:8080/",
          "height": 265
        },
        "id": "BOEfndDXA7ez",
        "outputId": "f1e053c6-d484-41c0-cd52-77ed70bbf99c"
      },
      "execution_count": 28,
      "outputs": [
        {
          "output_type": "display_data",
          "data": {
            "text/plain": [
              "<Figure size 432x288 with 1 Axes>"
            ],
            "image/png": "[encoded data removed]"
          },
          "metadata": {
            "needs_background": "light"
          }
        }
      ]
    },
    {
      "cell_type": "markdown",
      "source": [
        "Question 3:  plot 6 points: (0,2), (1,4), (2, 6), (3, 14), (4, 10), (5, 12), using dashed line, using red color\n",
        "to draw the line, but marker size is 10, marker color is green."
      ],
      "metadata": {
        "id": "crpQiiXw_Sjl"
      }
    },
    {
      "cell_type": "code",
      "source": [
        "xpoints = ([0,1,2,3,4,5])"
      ],
      "metadata": {
        "id": "kGLa1_4tBPRq"
      },
      "execution_count": 29,
      "outputs": []
    },
    {
      "cell_type": "code",
      "source": [
        "ypoints = ([2,4,6,14,10,12])"
      ],
      "metadata": {
        "id": "ly_MClH2BSsd"
      },
      "execution_count": 30,
      "outputs": []
    },
    {
      "cell_type": "code",
      "source": [
        "plt.plot(xpoints,ypoints, 'o:r', marker = 'o', ms = 10, mfc = 'g', mec = 'g')\n",
        "plt.show()"
      ],
      "metadata": {
        "colab": {
          "base_uri": "https://localhost:8080/",
          "height": 265
        },
        "id": "KxhHckvxBYJJ",
        "outputId": "56ced6bf-b4f8-4b15-e638-f07d41212cf4"
      },
      "execution_count": 37,
      "outputs": [
        {
          "output_type": "display_data",
          "data": {
            "text/plain": [
              "<Figure size 432x288 with 1 Axes>"
            ],
            "image/png": "[encoded data removed]"
          },
          "metadata": {
            "needs_background": "light"
          }
        }
      ]
    },
    {
      "cell_type": "markdown",
      "source": [
        "Question 4: Plot a figure with multiple lines, as shown in the following figure."
      ],
      "metadata": {
        "id": "8lkfjeV1_YcQ"
      }
    },
    {
      "cell_type": "code",
      "source": [
        "xpoints1 = np.array([1,6])"
      ],
      "metadata": {
        "id": "AjkZNu2DCJ19"
      },
      "execution_count": 41,
      "outputs": []
    },
    {
      "cell_type": "code",
      "source": [
        "ypoints1 = np.array([8,13])"
      ],
      "metadata": {
        "id": "9ArXEHtbC6W8"
      },
      "execution_count": 53,
      "outputs": []
    },
    {
      "cell_type": "code",
      "source": [
        "xpoints2 = np.array([2,7])"
      ],
      "metadata": {
        "id": "799-cRt1DA7s"
      },
      "execution_count": 42,
      "outputs": []
    },
    {
      "cell_type": "code",
      "source": [
        "ypoints2 = np.array([7,12])"
      ],
      "metadata": {
        "id": "bHAgXR3nDH2J"
      },
      "execution_count": 50,
      "outputs": []
    },
    {
      "cell_type": "code",
      "source": [
        "xpoints3 = np.array([3,8])"
      ],
      "metadata": {
        "id": "V5YjaPYFDORT"
      },
      "execution_count": 44,
      "outputs": []
    },
    {
      "cell_type": "code",
      "source": [
        "ypoints3 = np.array([6,11])"
      ],
      "metadata": {
        "id": "_PXhju5ODVyh"
      },
      "execution_count": 48,
      "outputs": []
    },
    {
      "cell_type": "code",
      "source": [
        "plt.plot(xpoints1,ypoints1)\n",
        "plt.plot(xpoints2,ypoints2)\n",
        "plt.plot(xpoints3,ypoints3)\n",
        "plt.show()"
      ],
      "metadata": {
        "colab": {
          "base_uri": "https://localhost:8080/",
          "height": 265
        },
        "id": "UxtCe7bVDbf9",
        "outputId": "b256ea4f-98ab-4e01-f331-918767d0aa97"
      },
      "execution_count": 54,
      "outputs": [
        {
          "output_type": "display_data",
          "data": {
            "text/plain": [
              "<Figure size 432x288 with 1 Axes>"
            ],
            "image/png": "[encoded data removed]"
          },
          "metadata": {
            "needs_background": "light"
          }
        }
      ]
    },
    {
      "cell_type": "markdown",
      "source": [
        "Question 5: Read each student’s grade from the marks dictionary. Then plot a bar chat and a pie chart for each student’s\n",
        "grade. Label student’s name at each plot. Add plot title. Add legend for the pie chart."
      ],
      "metadata": {
        "id": "DEh-8CKK_c5O"
      }
    },
    {
      "cell_type": "code",
      "source": [
        "marks = {'Andy': 88, 'Amy':66, 'James':90, 'Jules':55, 'Arthur':77}\n",
        "print(marks.values())"
      ],
      "metadata": {
        "colab": {
          "base_uri": "https://localhost:8080/"
        },
        "id": "4a2xHNaqEYfi",
        "outputId": "910f7d93-1c4e-48e3-c093-7ad0e3f6306e"
      },
      "execution_count": 59,
      "outputs": [
        {
          "output_type": "stream",
          "name": "stdout",
          "text": [
            "dict_values([88, 66, 90, 55, 77])\n"
          ]
        }
      ]
    },
    {
      "cell_type": "code",
      "source": [
        "x = np.array(['Andy','Amy','James','Jules','Arthur'])"
      ],
      "metadata": {
        "id": "8qeZlp-VEwsf"
      },
      "execution_count": 61,
      "outputs": []
    },
    {
      "cell_type": "code",
      "source": [
        "y = np.array([88,66,90,55,77])"
      ],
      "metadata": {
        "id": "SsAT_DVcFh3J"
      },
      "execution_count": 62,
      "outputs": []
    },
    {
      "cell_type": "code",
      "source": [
        "plt.bar(x,y)\n",
        "plt.title('Student Grades')\n",
        "plt.show()"
      ],
      "metadata": {
        "colab": {
          "base_uri": "https://localhost:8080/",
          "height": 281
        },
        "id": "wzilv-IfFmoW",
        "outputId": "e417cca6-b0e6-4790-bc00-785e7db49273"
      },
      "execution_count": 90,
      "outputs": [
        {
          "output_type": "display_data",
          "data": {
            "text/plain": [
              "<Figure size 432x288 with 1 Axes>"
            ],
            "image/png": "[encoded data removed]"
          },
          "metadata": {
            "needs_background": "light"
          }
        }
      ]
    },
    {
      "cell_type": "code",
      "source": [
        "plt.title('Student Grades')\n",
        "labels = ['Andy','Amy','James','Jules','Arthur']\n",
        "sizes = [88,66,90,55,77]\n",
        "colors = ['Orange','Green','Red','Purple','Blue']\n",
        "plt.pie(sizes)\n",
        "plt.legend(labels, loc='best')\n",
        "plt.show()"
      ],
      "metadata": {
        "colab": {
          "base_uri": "https://localhost:8080/",
          "height": 264
        },
        "id": "P2erwrLDGq65",
        "outputId": "95bf5498-0a93-4624-cb32-21374731e650"
      },
      "execution_count": 81,
      "outputs": [
        {
          "output_type": "display_data",
          "data": {
            "text/plain": [
              "<Figure size 432x288 with 1 Axes>"
            ],
            "image/png": "[encoded data removed]"
          },
          "metadata": {}
        }
      ]
    },
    {
      "cell_type": "markdown",
      "source": [
        "Question 6: Practice subplots() function, draw a subplot with 2 rows and 3 columns. Add each plot title."
      ],
      "metadata": {
        "id": "crU7k1ug_hQK"
      }
    },
    {
      "cell_type": "code",
      "source": [
        "plt.title('Student Grades')\n",
        "labels = ['Andy','Amy','James','Jules','Arthur']\n",
        "sizes = [88,66,90,55,77]\n",
        "colors = ['Orange','Green','Red','Purple','Blue']\n",
        "plt.pie(sizes)\n",
        "plt.legend(labels, loc='best')\n",
        "plt.show()"
      ],
      "metadata": {
        "colab": {
          "base_uri": "https://localhost:8080/",
          "height": 264
        },
        "id": "pgCo1oF7H8X_",
        "outputId": "de7050d4-af46-4b1e-f2a6-a7475e28f6d4"
      },
      "execution_count": 88,
      "outputs": [
        {
          "output_type": "display_data",
          "data": {
            "text/plain": [
              "<Figure size 432x288 with 1 Axes>"
            ],
            "image/png": "[encoded data removed]"
          },
          "metadata": {}
        }
      ]
    },
    {
      "cell_type": "code",
      "source": [
        "plt.plot([1,6],[8,13])\n",
        "plt.plot([2,7],[7,12])\n",
        "plt.plot([3,8],[6,11])\n",
        "plt.show()"
      ],
      "metadata": {
        "colab": {
          "base_uri": "https://localhost:8080/",
          "height": 265
        },
        "id": "ZBWTitGGKJJP",
        "outputId": "53d49e7b-5f73-4b6d-94fb-309a81ca6f1f"
      },
      "execution_count": 89,
      "outputs": [
        {
          "output_type": "display_data",
          "data": {
            "text/plain": [
              "<Figure size 432x288 with 1 Axes>"
            ],
            "image/png": "[encoded data removed]"
          },
          "metadata": {
            "needs_background": "light"
          }
        }
      ]
    },
    {
      "cell_type": "code",
      "source": [
        "plt.bar(['Andy','Amy','James','Jules','Arthur'],[88,66,90,55,77])\n",
        "plt.title('Student Grades')\n",
        "plt.show()"
      ],
      "metadata": {
        "colab": {
          "base_uri": "https://localhost:8080/",
          "height": 281
        },
        "id": "g_NoETDeKfFE",
        "outputId": "aea9d237-1525-4c8f-9793-73840865ef40"
      },
      "execution_count": 93,
      "outputs": [
        {
          "output_type": "display_data",
          "data": {
            "text/plain": [
              "<Figure size 432x288 with 1 Axes>"
            ],
            "image/png": "[encoded data removed]"
          },
          "metadata": {
            "needs_background": "light"
          }
        }
      ]
    }
  ]
}