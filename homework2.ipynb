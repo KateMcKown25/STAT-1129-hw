{
  "nbformat": 4,
  "nbformat_minor": 0,
  "metadata": {
    "colab": {
      "provenance": [],
      "collapsed_sections": [],
      "authorship_tag": "ABX9TyMGzmreoLhuvXyrwGBMKHE0"
    },
    "kernelspec": {
      "name": "python3",
      "display_name": "Python 3"
    },
    "language_info": {
      "name": "python"
    }
  },
  "cells": [
    {
      "cell_type": "markdown",
      "source": [
        "**Homework 2**: *Katherine McKown*"
      ],
      "metadata": {
        "id": "UrovLE_tTcUC"
      }
    },
    {
      "cell_type": "markdown",
      "source": [
        "Question 1: *Using While Loop. As long as n is less than 10, print out n. However, when n equals to 5, stop the loop.*"
      ],
      "metadata": {
        "id": "PIeG6PvZTy1G"
      }
    },
    {
      "cell_type": "code",
      "source": [
        "n=0\n",
        "while n < 10:\n",
        "  print(n)\n",
        "  n += 1\n",
        "  if n==5:\n",
        "    break"
      ],
      "metadata": {
        "colab": {
          "base_uri": "https://localhost:8080/"
        },
        "id": "1-5EBBGIofCI",
        "outputId": "6a31fb5f-2427-4ac6-d5f7-d4ab6255e5fe"
      },
      "execution_count": null,
      "outputs": [
        {
          "output_type": "stream",
          "name": "stdout",
          "text": [
            "0\n",
            "1\n",
            "2\n",
            "3\n",
            "4\n"
          ]
        }
      ]
    },
    {
      "cell_type": "markdown",
      "source": [
        "Question 2: *Using while loop. Initialize n=0. While n is < 5, print out n. Otherwise, print out $n “is not less than 5”.*"
      ],
      "metadata": {
        "id": "k4m5F_WVY5g0"
      }
    },
    {
      "cell_type": "code",
      "source": [
        "n=0\n",
        "while n < 5:\n",
        "  print(n)\n",
        "  n += 1\n",
        "else:\n",
        "  print(\"n is not less than 5\")"
      ],
      "metadata": {
        "id": "1sE5qyJpZDdN",
        "colab": {
          "base_uri": "https://localhost:8080/"
        },
        "outputId": "de270863-5b99-4595-c872-50d483c5c197"
      },
      "execution_count": 55,
      "outputs": [
        {
          "output_type": "stream",
          "name": "stdout",
          "text": [
            "0\n",
            "1\n",
            "2\n",
            "3\n",
            "4\n",
            "n is not less than 5\n"
          ]
        }
      ]
    },
    {
      "cell_type": "markdown",
      "source": [
        "Question 3: *Create your favorite fruit list, using For Loop, print out all the fruits in your list. However, when one\n",
        "fruit name equals to “apple”, stop the loop.*"
      ],
      "metadata": {
        "id": "MKi_it1xZDv9"
      }
    },
    {
      "cell_type": "code",
      "source": [
        "fruit_list=[\"melon\", \"rasbery\", \"mango\", \"apple\", \"pineapple\"]\n",
        "for x in fruit_list:\n",
        "  print(x)\n",
        "  if x==\"apple\":\n",
        "    break"
      ],
      "metadata": {
        "id": "3umJeGp4ZNHm",
        "colab": {
          "base_uri": "https://localhost:8080/"
        },
        "outputId": "c24e1226-ff71-46a0-83c1-12914e44c767"
      },
      "execution_count": null,
      "outputs": [
        {
          "output_type": "stream",
          "name": "stdout",
          "text": [
            "melon\n",
            "rasbery\n",
            "mango\n",
            "apple\n"
          ]
        }
      ]
    },
    {
      "cell_type": "markdown",
      "source": [
        "Question 4: *Add all the integers from 1 to 30, print out the sum. Using while loop.*"
      ],
      "metadata": {
        "id": "QMqHhSYLZNX7"
      }
    },
    {
      "cell_type": "code",
      "source": [
        "n=1\n",
        "sum=0\n",
        "while n<=30:\n",
        "  sum = sum + n\n",
        "  n = n + 1\n",
        "print(sum)"
      ],
      "metadata": {
        "id": "x-7n7V7eZaSD",
        "colab": {
          "base_uri": "https://localhost:8080/"
        },
        "outputId": "6f1da75f-623d-4fe2-8bc4-6e76aff32a5b"
      },
      "execution_count": null,
      "outputs": [
        {
          "output_type": "stream",
          "name": "stdout",
          "text": [
            "465\n"
          ]
        }
      ]
    },
    {
      "cell_type": "markdown",
      "source": [
        "Question 5: *Using if…elif…else statement, to help grade students’ score. You can define grade yourself, for\n",
        "example, grade = 55*"
      ],
      "metadata": {
        "id": "ClOGjxYUZaYX"
      }
    },
    {
      "cell_type": "code",
      "source": [
        "grade = 55\n",
        "if grade > 90:\n",
        "  print('A')\n",
        "elif grade == [80,90]:\n",
        "  print('B')\n",
        "elif grade == [70,80]:\n",
        "  print('C')\n",
        "elif grade == [60,70]:\n",
        "  print('D')\n",
        "elif grade < 60:\n",
        "  print('F')\n",
        "else:\n",
        "  print('Incomplete')"
      ],
      "metadata": {
        "id": "yrZJp7SnZfAS",
        "colab": {
          "base_uri": "https://localhost:8080/"
        },
        "outputId": "8eb53390-d064-4bd1-e1fe-a716f12df2e1"
      },
      "execution_count": 53,
      "outputs": [
        {
          "output_type": "stream",
          "name": "stdout",
          "text": [
            "F\n"
          ]
        }
      ]
    },
    {
      "cell_type": "markdown",
      "source": [
        "Question 6: *Define a dictionary, composed with students name and their grade.*"
      ],
      "metadata": {
        "id": "7tXlplTrZh7z"
      }
    },
    {
      "cell_type": "code",
      "source": [
        "grades_dict = {\"Andy\": 88,\n",
        "               \"Amy\": 66,\n",
        "               \"James\": 90,\n",
        "               \"Jules\": 55,\n",
        "               \"Arthur\": 77}"
      ],
      "metadata": {
        "id": "oULmlWX9Zuk3"
      },
      "execution_count": 3,
      "outputs": []
    },
    {
      "cell_type": "code",
      "source": [
        "#6.1: Using for loop, print out all the students name and their grade. \n",
        "for x in grades_dict:\n",
        "    print(x,\",\", grades_dict[x])"
      ],
      "metadata": {
        "colab": {
          "base_uri": "https://localhost:8080/"
        },
        "id": "9hke_gli3paR",
        "outputId": "aa6a6242-ba36-4b23-9fe8-80b39b103a7d"
      },
      "execution_count": 16,
      "outputs": [
        {
          "output_type": "stream",
          "name": "stdout",
          "text": [
            "Andy , 88\n",
            "Amy , 66\n",
            "James , 90\n",
            "Jules , 55\n",
            "Arthur , 77\n"
          ]
        }
      ]
    },
    {
      "cell_type": "code",
      "source": [
        "#6.2: Of this dictionary, calculate all the student’s mean grade, maximal grade, and minimal grade. \n",
        "max(grades_dict.values())"
      ],
      "metadata": {
        "colab": {
          "base_uri": "https://localhost:8080/"
        },
        "id": "UXdnRamY6Upy",
        "outputId": "7ebb1503-3f69-44cc-b8b4-6908c89fa35c"
      },
      "execution_count": null,
      "outputs": [
        {
          "output_type": "execute_result",
          "data": {
            "text/plain": [
              "90"
            ]
          },
          "metadata": {},
          "execution_count": 21
        }
      ]
    },
    {
      "cell_type": "code",
      "source": [
        "min(grades_dict.values())"
      ],
      "metadata": {
        "colab": {
          "base_uri": "https://localhost:8080/"
        },
        "id": "pyXw8lQZsq_N",
        "outputId": "d0bfbe64-8c3a-4c4c-b8b9-8d7c89222cdc"
      },
      "execution_count": null,
      "outputs": [
        {
          "output_type": "execute_result",
          "data": {
            "text/plain": [
              "55"
            ]
          },
          "metadata": {},
          "execution_count": 22
        }
      ]
    },
    {
      "cell_type": "code",
      "source": [
        "sum = sum(grades_dict.values())"
      ],
      "metadata": {
        "id": "HByoHelHsr2_"
      },
      "execution_count": 17,
      "outputs": []
    },
    {
      "cell_type": "code",
      "source": [
        "avg = sum / len(grades_dict.values())\n",
        "print(avg)"
      ],
      "metadata": {
        "colab": {
          "base_uri": "https://localhost:8080/"
        },
        "id": "DxmIep2Jtjyb",
        "outputId": "43e0dd4e-9215-43ce-faf4-224949e2e0ca"
      },
      "execution_count": null,
      "outputs": [
        {
          "output_type": "stream",
          "name": "stdout",
          "text": [
            "75.2\n"
          ]
        }
      ]
    },
    {
      "cell_type": "code",
      "source": [
        "#6.3: Using for loop or while loop, for all the keys in the dictionary, print out key. However, if ‘J’ appears, stop the loop. \n",
        "for student in grades_dict.keys():\n",
        "  if 'J' in student:\n",
        "    break\n",
        "  print(student)"
      ],
      "metadata": {
        "colab": {
          "base_uri": "https://localhost:8080/"
        },
        "id": "nySkp2lV6XR-",
        "outputId": "338ab380-19e8-4773-a820-c1822c2cc414"
      },
      "execution_count": 40,
      "outputs": [
        {
          "output_type": "stream",
          "name": "stdout",
          "text": [
            "Andy\n",
            "Amy\n"
          ]
        }
      ]
    },
    {
      "cell_type": "code",
      "source": [
        "#6.4: Using for loop or while loop, for all the keys in the dictionary, print out key. However, if ‘J’ appears, skip this key, and continue the loop.\n",
        "for student in grades_dict.keys():\n",
        "  if 'J' in student:\n",
        "    continue\n",
        "  print(student)"
      ],
      "metadata": {
        "colab": {
          "base_uri": "https://localhost:8080/"
        },
        "id": "BTVLHXOR6ZWJ",
        "outputId": "0d224739-2bb9-4785-eaa5-977284544f7d"
      },
      "execution_count": 43,
      "outputs": [
        {
          "output_type": "stream",
          "name": "stdout",
          "text": [
            "Andy\n",
            "Amy\n",
            "Arthur\n"
          ]
        }
      ]
    }
  ]
}