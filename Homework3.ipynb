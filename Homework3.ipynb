{
  "nbformat": 4,
  "nbformat_minor": 0,
  "metadata": {
    "colab": {
      "provenance": [],
      "authorship_tag": "ABX9TyM7xzb6DIEpGaV6QmDm98ya",
      "include_colab_link": true
    },
    "kernelspec": {
      "name": "python3",
      "display_name": "Python 3"
    },
    "language_info": {
      "name": "python"
    }
  },
  "cells": [
    {
      "cell_type": "markdown",
      "metadata": {
        "id": "view-in-github",
        "colab_type": "text"
      },
      "source": [
        "<a href=\"https://colab.research.google.com/github/KateMcKown25/STAT-1129-hw/blob/main/Homework3.ipynb\" target=\"_parent\"><img src=\"https://colab.research.google.com/assets/colab-badge.svg\" alt=\"Open In Colab\"/></a>"
      ]
    },
    {
      "cell_type": "markdown",
      "source": [
        "**Homework 3**: *Katherine McKown*"
      ],
      "metadata": {
        "id": "07hbFDUj-efc"
      }
    },
    {
      "cell_type": "markdown",
      "source": [
        "Question 1: *Define a dictionary, composed with students name and their grade.*"
      ],
      "metadata": {
        "id": "BmjxqOPe-mGq"
      }
    },
    {
      "cell_type": "code",
      "source": [
        "#Defining dictionary\n",
        "marks = {'Andy':88, 'Amy':66, 'James':90, 'Jules':55, 'Arthur':77}"
      ],
      "metadata": {
        "id": "ee3AbU8y-lxG"
      },
      "execution_count": 62,
      "outputs": []
    },
    {
      "cell_type": "code",
      "source": [
        "#Q1: Define a function, when call the function, only need to pass student’s name, your function will \n",
        "#return this student’s grade. If the student name does not exit, print you cannot find this student’s name.\n",
        "def fun1(name):\n",
        "  try:\n",
        "    return marks[name]\n",
        "  except:\n",
        "    print(name+' not found')"
      ],
      "metadata": {
        "id": "mwy1eoHc_FeP"
      },
      "execution_count": 14,
      "outputs": []
    },
    {
      "cell_type": "code",
      "source": [
        "fun1('Tim')"
      ],
      "metadata": {
        "colab": {
          "base_uri": "https://localhost:8080/"
        },
        "id": "-JgNWNCn9Sa5",
        "outputId": "db97592f-22a9-4da2-fd2f-02bd8dca3772"
      },
      "execution_count": 15,
      "outputs": [
        {
          "output_type": "stream",
          "name": "stdout",
          "text": [
            "Tim not found\n"
          ]
        }
      ]
    },
    {
      "cell_type": "code",
      "source": [
        "#Q2: Define another function that will return the average grade for all the students.\n",
        "  #this worked the first time I ran it and has been getting an \"uncallable\" error since - hence how everything\n",
        "    #below still works\n",
        "grades = marks.values()\n",
        "sum = sum(grades)"
      ],
      "metadata": {
        "colab": {
          "base_uri": "https://localhost:8080/",
          "height": 204
        },
        "id": "PqFXT4xfzqoL",
        "outputId": "609f0235-b183-4c0a-e0fd-e0dc479a0540"
      },
      "execution_count": 78,
      "outputs": [
        {
          "output_type": "error",
          "ename": "TypeError",
          "evalue": "ignored",
          "traceback": [
            "\u001b[0;31m---------------------------------------------------------------------------\u001b[0m",
            "\u001b[0;31mTypeError\u001b[0m                                 Traceback (most recent call last)",
            "\u001b[0;32m<ipython-input-78-22ced377845c>\u001b[0m in \u001b[0;36m<module>\u001b[0;34m\u001b[0m\n\u001b[1;32m      1\u001b[0m \u001b[0;31m#Q2: Define another function that will return the average grade for all the students.\u001b[0m\u001b[0;34m\u001b[0m\u001b[0;34m\u001b[0m\u001b[0;34m\u001b[0m\u001b[0m\n\u001b[1;32m      2\u001b[0m \u001b[0mgrades\u001b[0m \u001b[0;34m=\u001b[0m \u001b[0mmarks\u001b[0m\u001b[0;34m.\u001b[0m\u001b[0mvalues\u001b[0m\u001b[0;34m(\u001b[0m\u001b[0;34m)\u001b[0m\u001b[0;34m\u001b[0m\u001b[0;34m\u001b[0m\u001b[0m\n\u001b[0;32m----> 3\u001b[0;31m \u001b[0msum\u001b[0m \u001b[0;34m=\u001b[0m \u001b[0msum\u001b[0m\u001b[0;34m(\u001b[0m\u001b[0mgrades\u001b[0m\u001b[0;34m)\u001b[0m\u001b[0;34m\u001b[0m\u001b[0;34m\u001b[0m\u001b[0m\n\u001b[0m",
            "\u001b[0;31mTypeError\u001b[0m: 'int' object is not callable"
          ]
        }
      ]
    },
    {
      "cell_type": "code",
      "source": [
        "def fun2(avg):\n",
        "  avg = sum/len(marks.values())\n",
        "  print(avg)"
      ],
      "metadata": {
        "id": "FXwOEcegDFAt"
      },
      "execution_count": null,
      "outputs": []
    },
    {
      "cell_type": "code",
      "source": [
        "fun2(any)"
      ],
      "metadata": {
        "colab": {
          "base_uri": "https://localhost:8080/"
        },
        "id": "-_HLXZXBDBQy",
        "outputId": "456ef7d1-fd55-4251-ea33-0f79d5017ee1"
      },
      "execution_count": 28,
      "outputs": [
        {
          "output_type": "stream",
          "name": "stdout",
          "text": [
            "75.2\n"
          ]
        }
      ]
    },
    {
      "cell_type": "markdown",
      "source": [
        "Question 2: *Define a function. Using While Loop. As long as n is less than num, print out n and square of n.\n",
        "Otherwise, print out “greater than” the num value. When you call your function, specify the num values\n",
        "as 8.*"
      ],
      "metadata": {
        "id": "qDdO5JfKzyxm"
      }
    },
    {
      "cell_type": "code",
      "source": [
        "num = 8\n",
        "def my_fun(n):\n",
        "  if n<num:\n",
        "    print(n, ',', n**2)\n",
        "  else:\n",
        "    print(\"greater than\")"
      ],
      "metadata": {
        "id": "O1wVPEuBz3Tl"
      },
      "execution_count": 35,
      "outputs": []
    },
    {
      "cell_type": "code",
      "source": [
        "my_fun(n=4)"
      ],
      "metadata": {
        "colab": {
          "base_uri": "https://localhost:8080/"
        },
        "id": "-Dnxgxt9EFsO",
        "outputId": "76484cb6-d60e-428e-ddfd-cb906ed1cd93"
      },
      "execution_count": 36,
      "outputs": [
        {
          "output_type": "stream",
          "name": "stdout",
          "text": [
            "4 , 16\n"
          ]
        }
      ]
    },
    {
      "cell_type": "markdown",
      "source": [
        "Question 3: *Define a function. add all the integers from 1 to num, print out the sum. Using while loop.*"
      ],
      "metadata": {
        "id": "6E94Pp5pz4Gj"
      }
    },
    {
      "cell_type": "code",
      "source": [
        "def fun_1(n):\n",
        "  while num>1:\n",
        "    print(n)\n",
        "    num+=1\n",
        "  else:\n",
        "    print('N/A')"
      ],
      "metadata": {
        "id": "mQGkl4VX0FGg"
      },
      "execution_count": 112,
      "outputs": []
    },
    {
      "cell_type": "markdown",
      "source": [
        "Question 4: *Define a function. add all the integers from 1 to num, print out the sum at each step/iteration. Using for\n",
        "loop.*"
      ],
      "metadata": {
        "id": "ITZ5tfyI0FZR"
      }
    },
    {
      "cell_type": "code",
      "source": [
        "def fun_2(num):\n",
        "  for num in num>1:\n",
        "    print(num)\n",
        "    num+=1"
      ],
      "metadata": {
        "id": "yp0kLWu90JGO"
      },
      "execution_count": 113,
      "outputs": []
    },
    {
      "cell_type": "markdown",
      "source": [
        "Question 5: *Define a function. For a given list, range (1, 100), calculate its mean, sum, and standard deviation. You\n",
        "can use built in function and package.*"
      ],
      "metadata": {
        "id": "w4ykF9Bp0KgA"
      }
    },
    {
      "cell_type": "code",
      "source": [
        "def fun_3(my_list):\n",
        "  list(range(1,100))"
      ],
      "metadata": {
        "id": "GhK23JYh0fqd"
      },
      "execution_count": 55,
      "outputs": []
    },
    {
      "cell_type": "markdown",
      "source": [
        "Question 6: *Define a minimal function yourself, with 4 arguments. Your function will return the minimal value of\n",
        "the 4 arguments. Do not use the python built-in functions.*"
      ],
      "metadata": {
        "id": "2c-O42eM0gHL"
      }
    },
    {
      "cell_type": "code",
      "source": [
        "def fun_4(args):\n",
        "  arg = list(7,9,2,5)\n",
        "  print(min(arg))"
      ],
      "metadata": {
        "id": "ozSRmTxw0mU2"
      },
      "execution_count": 125,
      "outputs": []
    },
    {
      "cell_type": "markdown",
      "source": [
        "Question 7: *Write a function that concatenates 3 strings and return the concatenated string.*"
      ],
      "metadata": {
        "id": "h_YuxBvb0mmr"
      }
    },
    {
      "cell_type": "code",
      "source": [
        "def fun_5(str):\n",
        "  print(str1+\" \"+ str2+\" \"+str3)"
      ],
      "metadata": {
        "id": "EXvqu3d30v_n"
      },
      "execution_count": 56,
      "outputs": []
    },
    {
      "cell_type": "code",
      "source": [
        "str1 = \"Python is\"\n",
        "str2 = \"really\"\n",
        "str3 = \"cool!\""
      ],
      "metadata": {
        "id": "jKYMxL3dM9pu"
      },
      "execution_count": 43,
      "outputs": []
    },
    {
      "cell_type": "code",
      "source": [
        "fun_5(1)"
      ],
      "metadata": {
        "colab": {
          "base_uri": "https://localhost:8080/"
        },
        "id": "u8EiE87GNmEN",
        "outputId": "22c17f9c-3d9c-48d2-d5a0-6e04b8951b6b"
      },
      "execution_count": 54,
      "outputs": [
        {
          "output_type": "stream",
          "name": "stdout",
          "text": [
            "Python is really cool!\n"
          ]
        }
      ]
    }
  ]
}