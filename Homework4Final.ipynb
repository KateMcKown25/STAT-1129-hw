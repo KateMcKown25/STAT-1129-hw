{
  "nbformat": 4,
  "nbformat_minor": 0,
  "metadata": {
    "colab": {
      "provenance": [],
      "authorship_tag": "ABX9TyNP1bcP/d+yXydbW7NnyBNQ",
      "include_colab_link": true
    },
    "kernelspec": {
      "name": "python3",
      "display_name": "Python 3"
    },
    "language_info": {
      "name": "python"
    }
  },
  "cells": [
    {
      "cell_type": "markdown",
      "metadata": {
        "id": "view-in-github",
        "colab_type": "text"
      },
      "source": [
        "<a href=\"https://colab.research.google.com/github/KateMcKown25/STAT-1129-hw/blob/main/Homework4Final.ipynb\" target=\"_parent\"><img src=\"https://colab.research.google.com/assets/colab-badge.svg\" alt=\"Open In Colab\"/></a>"
      ]
    },
    {
      "cell_type": "markdown",
      "source": [
        "**Homework 4**: *Katherine McKown*"
      ],
      "metadata": {
        "id": "8T4k5ccY8EnV"
      }
    },
    {
      "cell_type": "markdown",
      "source": [
        "Question 1: Creating this array (as shown in figure) with the array function of numpy.\n",
        "Using the array, multiply with 2 (Element-wise multiplication). Return the dimension and shape of\n",
        "this array."
      ],
      "metadata": {
        "id": "g25wAdWJ8QaX"
      }
    },
    {
      "cell_type": "code",
      "execution_count": null,
      "metadata": {
        "id": "7y48N9Bk7rp6"
      },
      "outputs": [],
      "source": [
        "import numpy as np"
      ]
    },
    {
      "cell_type": "code",
      "source": [
        "numbers = np.array([[1,2,3,4],[5,6,7,8],[9,10,11,12]])"
      ],
      "metadata": {
        "id": "RPNCWvY18sjM"
      },
      "execution_count": null,
      "outputs": []
    },
    {
      "cell_type": "code",
      "source": [
        "for row in numbers:\n",
        "  for column in row:\n",
        "    print(column, end=' ')\n",
        "  print()"
      ],
      "metadata": {
        "colab": {
          "base_uri": "https://localhost:8080/"
        },
        "id": "YUPLDIPG8_2Q",
        "outputId": "ff98964c-beba-4104-e2c0-feda4d0cbdf3"
      },
      "execution_count": null,
      "outputs": [
        {
          "output_type": "stream",
          "name": "stdout",
          "text": [
            "1 2 3 4 \n",
            "5 6 7 8 \n",
            "9 10 11 12 \n"
          ]
        }
      ]
    },
    {
      "cell_type": "code",
      "source": [
        "numbers = np.array([1,2,3,4,5,6,7,8,9,10,11,12])\n",
        "for row in numbers:\n",
        "  print(row, end='')"
      ],
      "metadata": {
        "colab": {
          "base_uri": "https://localhost:8080/"
        },
        "id": "0ht82W-T9Uzn",
        "outputId": "512c4317-16db-4290-8fe9-93d08bfd2eb0"
      },
      "execution_count": null,
      "outputs": [
        {
          "output_type": "stream",
          "name": "stdout",
          "text": [
            "123456789101112"
          ]
        }
      ]
    },
    {
      "cell_type": "markdown",
      "source": [
        "Question 2: create x integer array from 1 to 6, create y integer array from 5 to 10. using x integer array\n",
        "as X-axis, using y integer array as Y-axis, plot a line."
      ],
      "metadata": {
        "id": "bI1Ml9G4-Kjl"
      }
    },
    {
      "cell_type": "code",
      "source": [
        "import numpy as np"
      ],
      "metadata": {
        "id": "jCFTFDtd-OSN"
      },
      "execution_count": null,
      "outputs": []
    },
    {
      "cell_type": "code",
      "source": [
        "import matplotlib.pyplot as plt"
      ],
      "metadata": {
        "id": "jkh6Jpnf_v0J"
      },
      "execution_count": null,
      "outputs": []
    },
    {
      "cell_type": "code",
      "source": [
        "x = np.array([1,6])"
      ],
      "metadata": {
        "id": "2WHMqKioAP5_"
      },
      "execution_count": null,
      "outputs": []
    },
    {
      "cell_type": "code",
      "source": [
        "y = np.array([5,10])"
      ],
      "metadata": {
        "id": "g7V3aj_5_4tf"
      },
      "execution_count": null,
      "outputs": []
    },
    {
      "cell_type": "code",
      "source": [
        "plt.plot(x, y)\n",
        "plt.show()"
      ],
      "metadata": {
        "colab": {
          "base_uri": "https://localhost:8080/",
          "height": 265
        },
        "id": "EwTWxYTpAYCG",
        "outputId": "c43e235f-d5cb-4db0-a1c9-4b0c58e25591"
      },
      "execution_count": null,
      "outputs": [
        {
          "output_type": "display_data",
          "data": {
            "text/plain": [
              "<Figure size 432x288 with 1 Axes>"
            ],
            "image/png": "[encoded data removed]"
          },
          "metadata": {
            "needs_background": "light"
          }
        }
      ]
    },
    {
      "cell_type": "code",
      "source": [
        "x = np.array([3,6,9,12])"
      ],
      "metadata": {
        "id": "m6CVOFjpAqVl"
      },
      "execution_count": null,
      "outputs": []
    },
    {
      "cell_type": "code",
      "source": [
        "y = np.array([2,8,1,10])"
      ],
      "metadata": {
        "id": "3pI9s1UDA0rb"
      },
      "execution_count": null,
      "outputs": []
    },
    {
      "cell_type": "code",
      "source": [
        "plt.plot(x,y, marker = 'o')\n",
        "plt.show()"
      ],
      "metadata": {
        "colab": {
          "base_uri": "https://localhost:8080/",
          "height": 265
        },
        "id": "BOEfndDXA7ez",
        "outputId": "11188d5b-4fc2-4a13-bb41-e10b485da9f0"
      },
      "execution_count": null,
      "outputs": [
        {
          "output_type": "display_data",
          "data": {
            "text/plain": [
              "<Figure size 432x288 with 1 Axes>"
            ],
            "image/png": "[encoded data removed]"
          },
          "metadata": {
            "needs_background": "light"
          }
        }
      ]
    },
    {
      "cell_type": "markdown",
      "source": [
        "Question 3:  plot 6 points: (0,2), (1,4), (2, 6), (3, 14), (4, 10), (5, 12), using dashed line, using red color\n",
        "to draw the line, but marker size is 10, marker color is green."
      ],
      "metadata": {
        "id": "crpQiiXw_Sjl"
      }
    },
    {
      "cell_type": "code",
      "source": [
        "xpoints = ([0,1,2,3,4,5])"
      ],
      "metadata": {
        "id": "kGLa1_4tBPRq"
      },
      "execution_count": null,
      "outputs": []
    },
    {
      "cell_type": "code",
      "source": [
        "ypoints = ([2,4,6,14,10,12])"
      ],
      "metadata": {
        "id": "ly_MClH2BSsd"
      },
      "execution_count": null,
      "outputs": []
    },
    {
      "cell_type": "code",
      "source": [
        "plt.plot(xpoints,ypoints, 'o:r', marker = 'o', ms = 10, mfc = 'g', mec = 'g')\n",
        "plt.show()"
      ],
      "metadata": {
        "colab": {
          "base_uri": "https://localhost:8080/",
          "height": 265
        },
        "id": "KxhHckvxBYJJ",
        "outputId": "3036997b-477e-4636-e94b-1c1402c8e1c6"
      },
      "execution_count": null,
      "outputs": [
        {
          "output_type": "display_data",
          "data": {
            "text/plain": [
              "<Figure size 432x288 with 1 Axes>"
            ],
            "image/png": "[encoded data removed]"
          },
          "metadata": {
            "needs_background": "light"
          }
        }
      ]
    },
    {
      "cell_type": "markdown",
      "source": [
        "Question 4: Plot a figure with multiple lines, as shown in the following figure."
      ],
      "metadata": {
        "id": "8lkfjeV1_YcQ"
      }
    },
    {
      "cell_type": "code",
      "source": [
        "xpoints1 = np.array([1,6])"
      ],
      "metadata": {
        "id": "AjkZNu2DCJ19"
      },
      "execution_count": null,
      "outputs": []
    },
    {
      "cell_type": "code",
      "source": [
        "ypoints1 = np.array([8,13])"
      ],
      "metadata": {
        "id": "9ArXEHtbC6W8"
      },
      "execution_count": null,
      "outputs": []
    },
    {
      "cell_type": "code",
      "source": [
        "xpoints2 = np.array([2,7])"
      ],
      "metadata": {
        "id": "799-cRt1DA7s"
      },
      "execution_count": null,
      "outputs": []
    },
    {
      "cell_type": "code",
      "source": [
        "ypoints2 = np.array([7,12])"
      ],
      "metadata": {
        "id": "bHAgXR3nDH2J"
      },
      "execution_count": null,
      "outputs": []
    },
    {
      "cell_type": "code",
      "source": [
        "xpoints3 = np.array([3,8])"
      ],
      "metadata": {
        "id": "V5YjaPYFDORT"
      },
      "execution_count": null,
      "outputs": []
    },
    {
      "cell_type": "code",
      "source": [
        "ypoints3 = np.array([6,11])"
      ],
      "metadata": {
        "id": "_PXhju5ODVyh"
      },
      "execution_count": null,
      "outputs": []
    },
    {
      "cell_type": "code",
      "source": [
        "plt.plot(xpoints1,ypoints1)\n",
        "plt.plot(xpoints2,ypoints2)\n",
        "plt.plot(xpoints3,ypoints3)\n",
        "plt.xlabel('X Label')\n",
        "plt.ylabel('Y Label')\n",
        "plt.show()"
      ],
      "metadata": {
        "colab": {
          "base_uri": "https://localhost:8080/",
          "height": 279
        },
        "id": "UxtCe7bVDbf9",
        "outputId": "3e614a20-2eff-4a6d-fdd5-97ab2f9e7e4b"
      },
      "execution_count": null,
      "outputs": [
        {
          "output_type": "display_data",
          "data": {
            "text/plain": [
              "<Figure size 432x288 with 1 Axes>"
            ],
            "image/png": "[encoded data removed]"
          },
          "metadata": {
            "needs_background": "light"
          }
        }
      ]
    },
    {
      "cell_type": "markdown",
      "source": [
        "Question 5: Read each student’s grade from the marks dictionary. Then plot a bar chat and a pie chart for each student’s\n",
        "grade. Label student’s name at each plot. Add plot title. Add legend for the pie chart."
      ],
      "metadata": {
        "id": "DEh-8CKK_c5O"
      }
    },
    {
      "cell_type": "code",
      "source": [
        "marks = {'Andy': 88, 'Amy':66, 'James':90, 'Jules':55, 'Arthur':77}\n",
        "print(marks.values())"
      ],
      "metadata": {
        "colab": {
          "base_uri": "https://localhost:8080/"
        },
        "id": "4a2xHNaqEYfi",
        "outputId": "910f7d93-1c4e-48e3-c093-7ad0e3f6306e"
      },
      "execution_count": null,
      "outputs": [
        {
          "output_type": "stream",
          "name": "stdout",
          "text": [
            "dict_values([88, 66, 90, 55, 77])\n"
          ]
        }
      ]
    },
    {
      "cell_type": "code",
      "source": [
        "x = np.array(['Andy','Amy','James','Jules','Arthur'])"
      ],
      "metadata": {
        "id": "8qeZlp-VEwsf"
      },
      "execution_count": null,
      "outputs": []
    },
    {
      "cell_type": "code",
      "source": [
        "y = np.array([88,66,90,55,77])"
      ],
      "metadata": {
        "id": "SsAT_DVcFh3J"
      },
      "execution_count": null,
      "outputs": []
    },
    {
      "cell_type": "code",
      "source": [
        "plt.bar(x,y)\n",
        "plt.title('Student Grades')\n",
        "plt.show()"
      ],
      "metadata": {
        "colab": {
          "base_uri": "https://localhost:8080/",
          "height": 281
        },
        "id": "wzilv-IfFmoW",
        "outputId": "e417cca6-b0e6-4790-bc00-785e7db49273"
      },
      "execution_count": null,
      "outputs": [
        {
          "output_type": "display_data",
          "data": {
            "text/plain": [
              "<Figure size 432x288 with 1 Axes>"
            ],
            "image/png": "[encoded data removed]"
          },
          "metadata": {
            "needs_background": "light"
          }
        }
      ]
    },
    {
      "cell_type": "code",
      "source": [
        "plt.title('Student Grades')\n",
        "labels = ['Andy','Amy','James','Jules','Arthur']\n",
        "sizes = [88,66,90,55,77]\n",
        "colors = ['Orange','Green','Red','Purple','Blue']\n",
        "plt.pie(sizes)\n",
        "plt.legend(labels, loc='best')\n",
        "plt.show()"
      ],
      "metadata": {
        "colab": {
          "base_uri": "https://localhost:8080/",
          "height": 264
        },
        "id": "P2erwrLDGq65",
        "outputId": "95bf5498-0a93-4624-cb32-21374731e650"
      },
      "execution_count": null,
      "outputs": [
        {
          "output_type": "display_data",
          "data": {
            "text/plain": [
              "<Figure size 432x288 with 1 Axes>"
            ],
            "image/png": "[encoded data removed]"
          },
          "metadata": {}
        }
      ]
    },
    {
      "cell_type": "markdown",
      "source": [
        "Question 6: Practice subplots() function, draw a subplot with 2 rows and 3 columns. Add each plot title."
      ],
      "metadata": {
        "id": "crU7k1ug_hQK"
      }
    },
    {
      "cell_type": "code",
      "source": [
        "x = np.array([0,1,2,3])\n",
        "y = np.array([3,8,1,10])\n",
        "plt.suptitle('TEST')\n",
        "plt.subplot(2,3,1)\n",
        "plt.plot([1,6],[8,13],[2,7],[7,12],[3,8],[6,11])\n",
        "plt.subplot(2,3,2)\n",
        "plt.bar(x,y)\n",
        "plt.subplot(2,3,3)\n",
        "plt.pie(y)\n",
        "plt.subplot(2,3,4)\n",
        "plt.hist(x)\n",
        "plt.subplot(2,3,5)\n",
        "plt.scatter(x,y)\n",
        "plt.subplot(2,3,6)\n",
        "plt.grid(color='r',linestyle='-',linewidth=2)"
      ],
      "metadata": {
        "colab": {
          "base_uri": "https://localhost:8080/",
          "height": 294
        },
        "id": "n_2Y6lEJFr3a",
        "outputId": "72e138c4-bf71-4bfc-8898-ff9d11a29fbe"
      },
      "execution_count": 65,
      "outputs": [
        {
          "output_type": "display_data",
          "data": {
            "text/plain": [
              "<Figure size 432x288 with 6 Axes>"
            ],
            "image/png": "[encoded data removed]"
          },
          "metadata": {
            "needs_background": "light"
          }
        }
      ]
    }
  ]
}